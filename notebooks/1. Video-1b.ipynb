{
 "cells": [
  {
   "cell_type": "code",
   "execution_count": 1,
   "id": "0ddfdc68",
   "metadata": {},
   "outputs": [],
   "source": [
    "import os\n",
    "import pandas as pd\n",
    "from sklearn import preprocessing\n",
    "from sklearn import ensemble\n",
    "# from . import dispatcher\n",
    "from sklearn import metrics "
   ]
  },
  {
   "cell_type": "code",
   "execution_count": 2,
   "id": "b9918935",
   "metadata": {},
   "outputs": [],
   "source": [
    "TRAINING_DATA = \"../input/train_folds.csv\"\n",
    "FOLD = 0"
   ]
  },
  {
   "cell_type": "code",
   "execution_count": 3,
   "id": "f1d2839e",
   "metadata": {},
   "outputs": [],
   "source": [
    "FOLD_MAPPING = {\n",
    "    0: [1, 2, 3, 4],\n",
    "    1: [0, 2, 3, 4],\n",
    "    2: [0, 1, 3, 4],\n",
    "    3: [0, 1, 2, 4],\n",
    "    4: [0, 1, 2, 3]\n",
    "}"
   ]
  },
  {
   "cell_type": "code",
   "execution_count": 4,
   "id": "2878be63",
   "metadata": {},
   "outputs": [],
   "source": [
    "df = pd.read_csv(TRAINING_DATA)\n",
    "train_df = df[df.kfold.isin(FOLD_MAPPING.get(FOLD))]\n",
    "valid_df = df[df.kfold == FOLD]"
   ]
  },
  {
   "cell_type": "code",
   "execution_count": 5,
   "id": "8fc86698",
   "metadata": {},
   "outputs": [],
   "source": [
    "ytrain = train_df.target.values\n",
    "yvalid = valid_df.target.values"
   ]
  },
  {
   "cell_type": "code",
   "execution_count": 6,
   "id": "a4c2613a",
   "metadata": {},
   "outputs": [
    {
     "data": {
      "text/plain": [
       "array([0, 1, 1, 1, 0], dtype=int64)"
      ]
     },
     "execution_count": 6,
     "metadata": {},
     "output_type": "execute_result"
    }
   ],
   "source": [
    "ytrain[:5]"
   ]
  },
  {
   "cell_type": "code",
   "execution_count": 7,
   "id": "cb27b11c",
   "metadata": {},
   "outputs": [
    {
     "data": {
      "text/plain": [
       "numpy.ndarray"
      ]
     },
     "execution_count": 7,
     "metadata": {},
     "output_type": "execute_result"
    }
   ],
   "source": [
    "type(ytrain)"
   ]
  },
  {
   "cell_type": "code",
   "execution_count": 8,
   "id": "92c39eed",
   "metadata": {},
   "outputs": [],
   "source": [
    "train_df = train_df.drop(columns = ['id', 'target', 'kfold'])\n",
    "valid_df = valid_df.drop(columns = ['id', 'target', 'kfold'])"
   ]
  },
  {
   "cell_type": "code",
   "execution_count": 9,
   "id": "78745e4a",
   "metadata": {},
   "outputs": [],
   "source": [
    "# to make sure order of variables in train and validating data are same\n",
    "valid_df = valid_df[train_df.columns]"
   ]
  },
  {
   "cell_type": "code",
   "execution_count": 10,
   "id": "408ae48c",
   "metadata": {},
   "outputs": [],
   "source": [
    "label_encoders = []"
   ]
  },
  {
   "cell_type": "code",
   "execution_count": 12,
   "id": "e64aa941",
   "metadata": {},
   "outputs": [
    {
     "data": {
      "text/plain": [
       "bin_0     int64\n",
       "bin_1     int64\n",
       "bin_2     int64\n",
       "bin_3    object\n",
       "bin_4    object\n",
       "nom_0    object\n",
       "nom_1    object\n",
       "nom_2    object\n",
       "nom_3    object\n",
       "nom_4    object\n",
       "nom_5    object\n",
       "nom_6    object\n",
       "nom_7    object\n",
       "nom_8    object\n",
       "nom_9    object\n",
       "ord_0     int64\n",
       "ord_1    object\n",
       "ord_2    object\n",
       "ord_3    object\n",
       "ord_4    object\n",
       "ord_5    object\n",
       "day       int64\n",
       "month     int64\n",
       "dtype: object"
      ]
     },
     "execution_count": 12,
     "metadata": {},
     "output_type": "execute_result"
    }
   ],
   "source": [
    "train_df.dtypes"
   ]
  },
  {
   "cell_type": "code",
   "execution_count": 13,
   "id": "9e6a7267",
   "metadata": {},
   "outputs": [
    {
     "data": {
      "text/html": [
       "<div>\n",
       "<style scoped>\n",
       "    .dataframe tbody tr th:only-of-type {\n",
       "        vertical-align: middle;\n",
       "    }\n",
       "\n",
       "    .dataframe tbody tr th {\n",
       "        vertical-align: top;\n",
       "    }\n",
       "\n",
       "    .dataframe thead th {\n",
       "        text-align: right;\n",
       "    }\n",
       "</style>\n",
       "<table border=\"1\" class=\"dataframe\">\n",
       "  <thead>\n",
       "    <tr style=\"text-align: right;\">\n",
       "      <th></th>\n",
       "      <th>bin_0</th>\n",
       "      <th>bin_1</th>\n",
       "      <th>bin_2</th>\n",
       "      <th>bin_3</th>\n",
       "      <th>bin_4</th>\n",
       "      <th>nom_0</th>\n",
       "      <th>nom_1</th>\n",
       "      <th>nom_2</th>\n",
       "      <th>nom_3</th>\n",
       "      <th>nom_4</th>\n",
       "      <th>...</th>\n",
       "      <th>nom_8</th>\n",
       "      <th>nom_9</th>\n",
       "      <th>ord_0</th>\n",
       "      <th>ord_1</th>\n",
       "      <th>ord_2</th>\n",
       "      <th>ord_3</th>\n",
       "      <th>ord_4</th>\n",
       "      <th>ord_5</th>\n",
       "      <th>day</th>\n",
       "      <th>month</th>\n",
       "    </tr>\n",
       "  </thead>\n",
       "  <tbody>\n",
       "    <tr>\n",
       "      <th>0</th>\n",
       "      <td>0</td>\n",
       "      <td>0</td>\n",
       "      <td>1</td>\n",
       "      <td>T</td>\n",
       "      <td>Y</td>\n",
       "      <td>Red</td>\n",
       "      <td>Square</td>\n",
       "      <td>Cat</td>\n",
       "      <td>Russia</td>\n",
       "      <td>Theremin</td>\n",
       "      <td>...</td>\n",
       "      <td>644658db0</td>\n",
       "      <td>c896e7f45</td>\n",
       "      <td>3</td>\n",
       "      <td>Novice</td>\n",
       "      <td>Lava Hot</td>\n",
       "      <td>i</td>\n",
       "      <td>L</td>\n",
       "      <td>Gb</td>\n",
       "      <td>1</td>\n",
       "      <td>3</td>\n",
       "    </tr>\n",
       "    <tr>\n",
       "      <th>1</th>\n",
       "      <td>0</td>\n",
       "      <td>0</td>\n",
       "      <td>1</td>\n",
       "      <td>F</td>\n",
       "      <td>N</td>\n",
       "      <td>Red</td>\n",
       "      <td>Trapezoid</td>\n",
       "      <td>Cat</td>\n",
       "      <td>Costa Rica</td>\n",
       "      <td>Bassoon</td>\n",
       "      <td>...</td>\n",
       "      <td>19c6cda47</td>\n",
       "      <td>25fec866c</td>\n",
       "      <td>1</td>\n",
       "      <td>Grandmaster</td>\n",
       "      <td>Boiling Hot</td>\n",
       "      <td>a</td>\n",
       "      <td>S</td>\n",
       "      <td>Dx</td>\n",
       "      <td>7</td>\n",
       "      <td>10</td>\n",
       "    </tr>\n",
       "    <tr>\n",
       "      <th>2</th>\n",
       "      <td>0</td>\n",
       "      <td>1</td>\n",
       "      <td>0</td>\n",
       "      <td>F</td>\n",
       "      <td>N</td>\n",
       "      <td>Green</td>\n",
       "      <td>Polygon</td>\n",
       "      <td>Hamster</td>\n",
       "      <td>Costa Rica</td>\n",
       "      <td>Oboe</td>\n",
       "      <td>...</td>\n",
       "      <td>550e90c2e</td>\n",
       "      <td>178056a55</td>\n",
       "      <td>3</td>\n",
       "      <td>Grandmaster</td>\n",
       "      <td>Cold</td>\n",
       "      <td>f</td>\n",
       "      <td>J</td>\n",
       "      <td>gJ</td>\n",
       "      <td>1</td>\n",
       "      <td>11</td>\n",
       "    </tr>\n",
       "    <tr>\n",
       "      <th>3</th>\n",
       "      <td>1</td>\n",
       "      <td>0</td>\n",
       "      <td>1</td>\n",
       "      <td>T</td>\n",
       "      <td>Y</td>\n",
       "      <td>Red</td>\n",
       "      <td>Circle</td>\n",
       "      <td>Lion</td>\n",
       "      <td>Canada</td>\n",
       "      <td>Oboe</td>\n",
       "      <td>...</td>\n",
       "      <td>e5fcb5ae0</td>\n",
       "      <td>242460243</td>\n",
       "      <td>1</td>\n",
       "      <td>Grandmaster</td>\n",
       "      <td>Hot</td>\n",
       "      <td>j</td>\n",
       "      <td>K</td>\n",
       "      <td>ek</td>\n",
       "      <td>4</td>\n",
       "      <td>7</td>\n",
       "    </tr>\n",
       "    <tr>\n",
       "      <th>4</th>\n",
       "      <td>0</td>\n",
       "      <td>1</td>\n",
       "      <td>0</td>\n",
       "      <td>T</td>\n",
       "      <td>Y</td>\n",
       "      <td>Blue</td>\n",
       "      <td>Polygon</td>\n",
       "      <td>Lion</td>\n",
       "      <td>Costa Rica</td>\n",
       "      <td>Bassoon</td>\n",
       "      <td>...</td>\n",
       "      <td>384b0bc0c</td>\n",
       "      <td>645b0a17a</td>\n",
       "      <td>1</td>\n",
       "      <td>Novice</td>\n",
       "      <td>Boiling Hot</td>\n",
       "      <td>k</td>\n",
       "      <td>R</td>\n",
       "      <td>je</td>\n",
       "      <td>4</td>\n",
       "      <td>3</td>\n",
       "    </tr>\n",
       "  </tbody>\n",
       "</table>\n",
       "<p>5 rows × 23 columns</p>\n",
       "</div>"
      ],
      "text/plain": [
       "   bin_0  bin_1  bin_2 bin_3 bin_4  nom_0      nom_1    nom_2       nom_3  \\\n",
       "0      0      0      1     T     Y    Red     Square      Cat      Russia   \n",
       "1      0      0      1     F     N    Red  Trapezoid      Cat  Costa Rica   \n",
       "2      0      1      0     F     N  Green    Polygon  Hamster  Costa Rica   \n",
       "3      1      0      1     T     Y    Red     Circle     Lion      Canada   \n",
       "4      0      1      0     T     Y   Blue    Polygon     Lion  Costa Rica   \n",
       "\n",
       "      nom_4  ...      nom_8      nom_9 ord_0        ord_1        ord_2  ord_3  \\\n",
       "0  Theremin  ...  644658db0  c896e7f45     3       Novice     Lava Hot      i   \n",
       "1   Bassoon  ...  19c6cda47  25fec866c     1  Grandmaster  Boiling Hot      a   \n",
       "2      Oboe  ...  550e90c2e  178056a55     3  Grandmaster         Cold      f   \n",
       "3      Oboe  ...  e5fcb5ae0  242460243     1  Grandmaster          Hot      j   \n",
       "4   Bassoon  ...  384b0bc0c  645b0a17a     1       Novice  Boiling Hot      k   \n",
       "\n",
       "  ord_4 ord_5 day month  \n",
       "0     L    Gb   1     3  \n",
       "1     S    Dx   7    10  \n",
       "2     J    gJ   1    11  \n",
       "3     K    ek   4     7  \n",
       "4     R    je   4     3  \n",
       "\n",
       "[5 rows x 23 columns]"
      ]
     },
     "execution_count": 13,
     "metadata": {},
     "output_type": "execute_result"
    }
   ],
   "source": [
    "train_df.head()"
   ]
  },
  {
   "cell_type": "code",
   "execution_count": 18,
   "id": "c3c29d31",
   "metadata": {},
   "outputs": [
    {
     "data": {
      "text/plain": [
       "['Red', 'Red', 'Green', 'Red', 'Blue']"
      ]
     },
     "execution_count": 18,
     "metadata": {},
     "output_type": "execute_result"
    }
   ],
   "source": [
    "train_df['nom_0'].values.tolist()[:5]"
   ]
  },
  {
   "cell_type": "code",
   "execution_count": 19,
   "id": "ffa3e542",
   "metadata": {},
   "outputs": [],
   "source": [
    "for c in train_df.columns:\n",
    "    lbl = preprocessing.LabelEncoder()\n",
    "    lbl.fit(train_df[c].values.tolist() + valid_df[c].values.tolist())\n",
    "    train_df.loc[:,c] = lbl.transform(train_df[c].values.tolist())\n",
    "    valid_df.loc[:,c] = lbl.transform(valid_df[c].values.tolist())\n",
    "    label_encoders.append((c,lbl))"
   ]
  },
  {
   "cell_type": "code",
   "execution_count": 20,
   "id": "b69471b7",
   "metadata": {},
   "outputs": [
    {
     "data": {
      "text/plain": [
       "[('bin_0', LabelEncoder()),\n",
       " ('bin_1', LabelEncoder()),\n",
       " ('bin_2', LabelEncoder()),\n",
       " ('bin_3', LabelEncoder()),\n",
       " ('bin_4', LabelEncoder()),\n",
       " ('nom_0', LabelEncoder()),\n",
       " ('nom_1', LabelEncoder()),\n",
       " ('nom_2', LabelEncoder()),\n",
       " ('nom_3', LabelEncoder()),\n",
       " ('nom_4', LabelEncoder()),\n",
       " ('nom_5', LabelEncoder()),\n",
       " ('nom_6', LabelEncoder()),\n",
       " ('nom_7', LabelEncoder()),\n",
       " ('nom_8', LabelEncoder()),\n",
       " ('nom_9', LabelEncoder()),\n",
       " ('ord_0', LabelEncoder()),\n",
       " ('ord_1', LabelEncoder()),\n",
       " ('ord_2', LabelEncoder()),\n",
       " ('ord_3', LabelEncoder()),\n",
       " ('ord_4', LabelEncoder()),\n",
       " ('ord_5', LabelEncoder()),\n",
       " ('day', LabelEncoder()),\n",
       " ('month', LabelEncoder())]"
      ]
     },
     "execution_count": 20,
     "metadata": {},
     "output_type": "execute_result"
    }
   ],
   "source": [
    "label_encoders"
   ]
  },
  {
   "cell_type": "code",
   "execution_count": 21,
   "id": "1f761117",
   "metadata": {
    "scrolled": false
   },
   "outputs": [
    {
     "name": "stderr",
     "output_type": "stream",
     "text": [
      "[Parallel(n_jobs=-1)]: Using backend ThreadingBackend with 8 concurrent workers.\n"
     ]
    },
    {
     "name": "stdout",
     "output_type": "stream",
     "text": [
      "building tree 1 of 100building tree 2 of 100\n",
      "building tree 3 of 100\n",
      "\n",
      "building tree 4 of 100\n",
      "building tree 5 of 100building tree 6 of 100\n",
      "\n",
      "building tree 7 of 100\n",
      "building tree 8 of 100\n",
      "building tree 9 of 100\n",
      "building tree 10 of 100\n",
      "building tree 11 of 100\n",
      "building tree 12 of 100\n",
      "building tree 13 of 100\n",
      "building tree 14 of 100\n",
      "building tree 15 of 100\n",
      "building tree 16 of 100\n",
      "building tree 17 of 100\n",
      "building tree 18 of 100\n",
      "building tree 19 of 100\n",
      "building tree 20 of 100\n",
      "building tree 21 of 100\n",
      "building tree 22 of 100\n",
      "building tree 23 of 100\n",
      "building tree 24 of 100\n",
      "building tree 25 of 100\n",
      "building tree 26 of 100\n",
      "building tree 27 of 100\n",
      "building tree 28 of 100\n",
      "building tree 29 of 100\n",
      "building tree 30 of 100\n",
      "building tree 31 of 100\n",
      "building tree 32 of 100\n",
      "building tree 33 of 100building tree 34 of 100\n",
      "\n",
      "building tree 35 of 100\n",
      "building tree 36 of 100\n",
      "building tree 37 of 100\n",
      "building tree 38 of 100\n",
      "building tree 39 of 100\n"
     ]
    },
    {
     "name": "stderr",
     "output_type": "stream",
     "text": [
      "[Parallel(n_jobs=-1)]: Done  25 tasks      | elapsed:    5.4s\n"
     ]
    },
    {
     "name": "stdout",
     "output_type": "stream",
     "text": [
      "building tree 40 of 100\n",
      "building tree 41 of 100\n",
      "building tree 42 of 100\n",
      "building tree 43 of 100\n",
      "building tree 44 of 100\n",
      "building tree 45 of 100\n",
      "building tree 46 of 100\n",
      "building tree 47 of 100\n",
      "building tree 48 of 100\n",
      "building tree 49 of 100\n",
      "building tree 50 of 100\n",
      "building tree 51 of 100\n",
      "building tree 52 of 100\n",
      "building tree 53 of 100\n",
      "building tree 54 of 100\n",
      "building tree 55 of 100\n",
      "building tree 56 of 100\n",
      "building tree 57 of 100\n",
      "building tree 58 of 100\n",
      "building tree 59 of 100\n",
      "building tree 60 of 100\n",
      "building tree 61 of 100\n",
      "building tree 62 of 100\n",
      "building tree 63 of 100\n",
      "building tree 64 of 100\n",
      "building tree 65 of 100\n",
      "building tree 66 of 100\n",
      "building tree 67 of 100\n",
      "building tree 68 of 100\n",
      "building tree 69 of 100\n",
      "building tree 70 of 100\n",
      "building tree 71 of 100\n",
      "building tree 72 of 100\n",
      "building tree 73 of 100\n",
      "building tree 74 of 100\n",
      "building tree 75 of 100\n",
      "building tree 76 of 100\n",
      "building tree 77 of 100\n",
      "building tree 78 of 100\n",
      "building tree 79 of 100\n",
      "building tree 80 of 100\n",
      "building tree 81 of 100\n",
      "building tree 82 of 100\n",
      "building tree 83 of 100\n",
      "building tree 84 of 100\n",
      "building tree 85 of 100\n",
      "building tree 86 of 100\n",
      "building tree 87 of 100\n",
      "building tree 88 of 100\n",
      "building tree 89 of 100\n",
      "building tree 90 of 100\n",
      "building tree 91 of 100\n",
      "building tree 92 of 100\n",
      "building tree 93 of 100\n",
      "building tree 94 of 100\n",
      "building tree 95 of 100\n",
      "building tree 96 of 100\n",
      "building tree 97 of 100\n",
      "building tree 98 of 100\n",
      "building tree 99 of 100\n",
      "building tree 100 of 100\n"
     ]
    },
    {
     "name": "stderr",
     "output_type": "stream",
     "text": [
      "[Parallel(n_jobs=-1)]: Done 100 out of 100 | elapsed:   18.0s finished\n",
      "[Parallel(n_jobs=8)]: Using backend ThreadingBackend with 8 concurrent workers.\n",
      "[Parallel(n_jobs=8)]: Done  25 tasks      | elapsed:    0.2s\n",
      "[Parallel(n_jobs=8)]: Done 100 out of 100 | elapsed:    0.7s finished\n"
     ]
    },
    {
     "data": {
      "text/plain": [
       "array([0.63, 0.09, 0.52, ..., 0.22, 0.46, 0.51])"
      ]
     },
     "execution_count": 21,
     "metadata": {},
     "output_type": "execute_result"
    }
   ],
   "source": [
    "clf = ensemble.RandomForestClassifier(n_jobs=-1, verbose = 2)\n",
    "clf.fit(train_df, ytrain)\n",
    "preds = clf.predict_proba(valid_df)[:,1]\n",
    "preds"
   ]
  },
  {
   "cell_type": "code",
   "execution_count": 22,
   "id": "2467185a",
   "metadata": {},
   "outputs": [
    {
     "name": "stdout",
     "output_type": "stream",
     "text": [
      "0.7397511428188703\n"
     ]
    }
   ],
   "source": [
    "print(metrics.roc_auc_score(yvalid, preds))"
   ]
  },
  {
   "cell_type": "code",
   "execution_count": null,
   "id": "3f452f82",
   "metadata": {},
   "outputs": [],
   "source": []
  }
 ],
 "metadata": {
  "kernelspec": {
   "display_name": "Python 3 (ipykernel)",
   "language": "python",
   "name": "python3"
  },
  "language_info": {
   "codemirror_mode": {
    "name": "ipython",
    "version": 3
   },
   "file_extension": ".py",
   "mimetype": "text/x-python",
   "name": "python",
   "nbconvert_exporter": "python",
   "pygments_lexer": "ipython3",
   "version": "3.9.7"
  }
 },
 "nbformat": 4,
 "nbformat_minor": 5
}
